{
 "cells": [
  {
   "cell_type": "markdown",
   "metadata": {},
   "source": [
    "# Ejercicio 1\n",
    "Uso de funciones en Python"
   ]
  },
  {
   "cell_type": "code",
   "execution_count": 37,
   "metadata": {},
   "outputs": [
    {
     "name": "stdout",
     "output_type": "stream",
     "text": [
      "Reporte de combustible: \n",
      "Tanque principal:23 \n",
      "Tanque externo:50 \n",
      "Tanque de Hidrogeno:78 \n",
      "Promedio de combustible: 50.333333333333336\n",
      "Reporte de combustible: \n",
      "Tanque principal:23 \n",
      "Tanque externo:50 \n",
      "Tanque de Hidrogeno:78 \n",
      "Promedio de combustible: 50.333333333333336\n"
     ]
    }
   ],
   "source": [
    "def lecturas_combustible (tanque1,tanque2,tanque3):\n",
    "    prom=(tanque1+tanque2+tanque3)/3\n",
    "    return \"Reporte de combustible: \\nTanque principal:{} \\nTanque externo:{} \\nTanque de Hidrogeno:{} \\nPromedio de combustible: {}\".format(tanque1,tanque2,tanque3,prom)\n",
    "print(lecturas_combustible (23,50,78))\n",
    "def promedio (lecturas):\n",
    "    total=sum(lecturas)\n",
    "    numtanques=len(lecturas)\n",
    "    return total/numtanques\n",
    "def lecturas_combustible (tanque1,tanque2,tanque3):\n",
    "    return \"Reporte de combustible: \\nTanque principal:{} \\nTanque externo:{} \\nTanque de Hidrogeno:{} \\nPromedio de combustible: {}\".format(tanque1,tanque2,tanque3,promedio([tanque1,tanque2,tanque3]))\n",
    "\n",
    "\n",
    "print(lecturas_combustible (23,50,78))\n"
   ]
  },
  {
   "cell_type": "markdown",
   "metadata": {},
   "source": [
    "# Ejercicio 2\n",
    "Trabajar con argumentos de palabras clave en funciones"
   ]
  },
  {
   "cell_type": "code",
   "execution_count": 48,
   "metadata": {},
   "outputs": [
    {
     "name": "stdout",
     "output_type": "stream",
     "text": [
      "Detalles de Lanzamiento: \n",
      "----------------------\n",
      "Destino:Marte\n",
      "Tiempo total de vuelo:1615\n",
      "Nivel de combustible:100.0\n",
      "\n",
      "Detalles de Lanzamiento:\n",
      " Destino:Marte\n",
      " Tiempo total de viaje:1630\n",
      " Nivel de combustible:100\n",
      "\n",
      "    Mission to Marte\n",
      "    Total travel time: 1630 minutes\n",
      "    Total fuel left: 100\n",
      "    texterno tank --> 50 gallons left\n",
      "tinterno tank --> 50 gallons left\n",
      "\n"
     ]
    }
   ],
   "source": [
    "# Función con un informe preciso de la misión. Considera hora de prelanzamiento, tiempo de vuelo, destino, tanque externo y tanque interno\n",
    "def informacion_viaje (hprelanzamiento,tvuelo,destino,texterno,tinterno):\n",
    "    return \"Detalles de Lanzamiento: \\n----------------------\\nDestino:{}\\nTiempo total de vuelo:{}\\nNivel de combustible:{}\\n\".format(destino,hprelanzamiento+tvuelo,(texterno+tinterno)/2)\n",
    "\n",
    "print(informacion_viaje(1600,15,'Marte',100,100))\n",
    "\n",
    "def informacion_viaje(destino,*minutes,**fuel_reservoirs):\n",
    "    return \"Detalles de Lanzamiento:\\n Destino:{}\\n Tiempo total de viaje:{}\\n Nivel de combustible:{}\".format(destino,sum(minutes),sum(fuel_reservoirs.values()))\n",
    "\n",
    "print(informacion_viaje(\"Marte\",1600,5,10,15,texterno=50,tinterno=50))\n",
    "\n",
    "\n",
    "def informacion_viaje(destino, *minutes, **fuel_reservoirs):\n",
    "    main_report = f\"\"\"\n",
    "    Mission to {destino}\n",
    "    Total travel time: {sum(minutes)} minutes\n",
    "    Total fuel left: {sum(fuel_reservoirs.values())}\n",
    "    \"\"\"\n",
    "    for tank_name, gallons in fuel_reservoirs.items():\n",
    "        main_report += f\"{tank_name} tank --> {gallons} gallons left\\n\"\n",
    "    return main_report\n",
    "\n",
    "print(informacion_viaje(\"Marte\",1600,5,10,15,texterno=50,tinterno=50))\n",
    "\n"
   ]
  }
 ],
 "metadata": {
  "interpreter": {
   "hash": "409e9466594ad2b05b3243a56daf0c2959e53ee512aeeca6e2f0ff8002f26f46"
  },
  "kernelspec": {
   "display_name": "Python 3.10.2 64-bit",
   "language": "python",
   "name": "python3"
  },
  "language_info": {
   "codemirror_mode": {
    "name": "ipython",
    "version": 3
   },
   "file_extension": ".py",
   "mimetype": "text/x-python",
   "name": "python",
   "nbconvert_exporter": "python",
   "pygments_lexer": "ipython3",
   "version": "3.10.2"
  },
  "orig_nbformat": 4
 },
 "nbformat": 4,
 "nbformat_minor": 2
}

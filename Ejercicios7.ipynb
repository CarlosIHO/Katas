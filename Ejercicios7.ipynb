{
 "cells": [
  {
   "cell_type": "markdown",
   "metadata": {},
   "source": [
    "# Ejercicio 1\n",
    "Creación de un bucle \"while\""
   ]
  },
  {
   "cell_type": "code",
   "execution_count": 8,
   "metadata": {},
   "outputs": [
    {
     "name": "stdout",
     "output_type": "stream",
     "text": [
      "Tierra\n",
      "Marte\n",
      "Neptuno \n"
     ]
    }
   ],
   "source": [
    "planeta=\"\"\n",
    "lista=[]\n",
    "while planeta.title() != \"Done\":\n",
    "    if planeta:\n",
    "        lista.append(planeta)\n",
    "    planeta=input(\"Ingresa el planeta a la lista, para terminar escribe 'done'\")\n",
    "#Ejercicio 2\n",
    "for i in lista:\n",
    "    print(i.title())\n",
    "\n"
   ]
  }
 ],
 "metadata": {
  "interpreter": {
   "hash": "fca7286ad49a51c87c04439b8abc41030fa88164ec992102bbafb8655b3208f8"
  },
  "kernelspec": {
   "display_name": "Python 3.10.2 64-bit (windows store)",
   "language": "python",
   "name": "python3"
  },
  "language_info": {
   "codemirror_mode": {
    "name": "ipython",
    "version": 3
   },
   "file_extension": ".py",
   "mimetype": "text/x-python",
   "name": "python",
   "nbconvert_exporter": "python",
   "pygments_lexer": "ipython3",
   "version": "3.10.2"
  },
  "orig_nbformat": 4
 },
 "nbformat": 4,
 "nbformat_minor": 2
}

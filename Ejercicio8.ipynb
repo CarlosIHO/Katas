{
 "cells": [
  {
   "cell_type": "markdown",
   "metadata": {},
   "source": [
    "# Ejercicio 1\n",
    "Creación de diccionarios de Python"
   ]
  },
  {
   "cell_type": "code",
   "execution_count": 1,
   "metadata": {},
   "outputs": [
    {
     "name": "stdout",
     "output_type": "stream",
     "text": [
      "El planeta Marte tiene 2 lunas\n",
      "El planeta Marte tiene 2 lunas y una circunferencia polar de 6752\n"
     ]
    }
   ],
   "source": [
    "planeta={\n",
    "    \"nombre\":\"Marte\",\n",
    "    \"lunas\":2\n",
    "}\n",
    "print(\"El planeta {} tiene {} lunas\".format(planeta[\"nombre\"],planeta[\"lunas\"]))\n",
    "planeta[\"circunferencia(km)\"]={\n",
    "    \"polar\":6752,\n",
    "    \"equatorial\":6792\n",
    "}\n",
    "print(\"El planeta {} tiene {} lunas y una circunferencia polar de {}\".format(planeta[\"nombre\"],planeta[\"lunas\"],planeta[\"circunferencia(km)\"][\"polar\"]))"
   ]
  },
  {
   "cell_type": "markdown",
   "metadata": {},
   "source": [
    "# Ejercicio 2\n",
    "Programación dinámica con diccionarios"
   ]
  },
  {
   "cell_type": "code",
   "execution_count": 5,
   "metadata": {},
   "outputs": [
    {
     "name": "stdout",
     "output_type": "stream",
     "text": [
      "dict_values([0, 0, 1, 2, 79, 82, 27, 14, 5, 2, 1, 1])\n",
      "De la siguiente lista:\n",
      "mercury: 0\n",
      "venus: 0\n",
      "earth: 1\n",
      "mars: 2\n",
      "jupiter: 79\n",
      "saturn: 82\n",
      "uranus: 27\n",
      "neptune: 14\n",
      "pluto: 5\n",
      "haumea: 2\n",
      "makemake: 1\n",
      "eris: 1\n",
      "Se obtiene un total de planetas de: 12\n",
      "Con un total de lunas de: 214, por lo que de esta lista se obtiene un promedio de: 18 Lunas\n"
     ]
    }
   ],
   "source": [
    "planet_moons = {\n",
    "    'mercury': 0,\n",
    "    'venus': 0,\n",
    "    'earth': 1,\n",
    "    'mars': 2,\n",
    "    'jupiter': 79,\n",
    "    'saturn': 82,\n",
    "    'uranus': 27,\n",
    "    'neptune': 14,\n",
    "    'pluto': 5,\n",
    "    'haumea': 2,\n",
    "    'makemake': 1,\n",
    "    'eris': 1\n",
    "}\n",
    "lunas=planet_moons.values()\n",
    "print(lunas)\n",
    "planetas=0\n",
    "print(\"De la siguiente lista:\")\n",
    "for i in planet_moons.keys(): #Obtiene el num planetas de forma arcaica\n",
    "    print(f\"{i}: {planet_moons[i]}\")\n",
    "    planetas=planetas+1\n",
    "print(f\"Se obtiene un total de planetas de: {planetas}\")\n",
    "#planetas=len(planet_moons.keys()) Obtiene el numero de planetas mas eficiente por len\n",
    "totallunas=0\n",
    "for j in lunas:\n",
    "    totallunas=totallunas+j\n",
    "from math import ceil\n",
    "promedio=ceil(totallunas/planetas)\n",
    "print(f\"Con un total de lunas de: {totallunas}, por lo que de esta lista se obtiene un promedio de: {promedio} Lunas\")\n",
    "\n"
   ]
  }
 ],
 "metadata": {
  "interpreter": {
   "hash": "409e9466594ad2b05b3243a56daf0c2959e53ee512aeeca6e2f0ff8002f26f46"
  },
  "kernelspec": {
   "display_name": "Python 3.10.2 64-bit",
   "language": "python",
   "name": "python3"
  },
  "language_info": {
   "codemirror_mode": {
    "name": "ipython",
    "version": 3
   },
   "file_extension": ".py",
   "mimetype": "text/x-python",
   "name": "python",
   "nbconvert_exporter": "python",
   "pygments_lexer": "ipython3",
   "version": "3.10.2"
  },
  "orig_nbformat": 4
 },
 "nbformat": 4,
 "nbformat_minor": 2
}

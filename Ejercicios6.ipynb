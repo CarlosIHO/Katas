{
 "cells": [
  {
   "cell_type": "markdown",
   "metadata": {},
   "source": [
    "# Ejercicio 1\n",
    "Crear y usar listas de Python"
   ]
  },
  {
   "cell_type": "code",
   "execution_count": 8,
   "metadata": {},
   "outputs": [
    {
     "name": "stdout",
     "output_type": "stream",
     "text": [
      "Los planetas del Sistema solar son:  ['Mercurio', 'Venus', 'Tierra', 'Marte', 'Jupiter', 'Saturno', 'Urano', 'Neptuno']\n",
      "El numero de planetas en el Sistema Solar son 9 ,el cual el ultimo planeta Pluton se considera un planeta enano\n"
     ]
    }
   ],
   "source": [
    "planets=[ \"Mercurio\",\"Venus\",\"Tierra\",\"Marte\",\"Jupiter\",\"Saturno\",\"Urano\",\"Neptuno\" ]\n",
    "print(\"Los planetas del Sistema solar son: \",planets)\n",
    "planets.append(\"Pluton\")\n",
    "numplanetas=len(planets)\n",
    "print(\"El numero de planetas en el Sistema Solar son {} ,el cual el ultimo planeta {} se considera un planeta enano\".format(numplanetas,planets[-1]))\n"
   ]
  },
  {
   "cell_type": "markdown",
   "metadata": {},
   "source": [
    "# Ejercicio 2\n",
    "Trabajando con datos de una lista"
   ]
  },
  {
   "cell_type": "code",
   "execution_count": 16,
   "metadata": {},
   "outputs": [
    {
     "name": "stdout",
     "output_type": "stream",
     "text": [
      "El planeta Marte ocupa la posicion 4 en el Sistema Solar\n",
      "Los planetas mas cercanos al Sol antes del de tu eleccion son: ['Mercurio', 'Venus', 'Tierra']\n",
      "Los planetas mas alejados del Sol despues del de tu eleccion son: ['Jupiter', 'Saturno', 'Urano', 'Neptuno']\n",
      "[0, 1, 2, 3, 4]\n",
      "[0, 1, 2, 3, 4]\n",
      "[0, 1, 2, 3, 4]\n",
      "[0, 1, 2, 3, 4]\n",
      "[0, 1, 2, 3, 4]\n",
      "Blast off!! 🚀\n"
     ]
    }
   ],
   "source": [
    "planets=[ \"Mercurio\",\"Venus\",\"Tierra\",\"Marte\",\"Jupiter\",\"Saturno\",\"Urano\",\"Neptuno\" ]\n",
    "planbusc=input(\"Ingresa el planeta, iniciando por mayuscula y luego en minusculas\")\n",
    "posicion=planets.index(planbusc)\n",
    "print(\"El planeta {} ocupa la posicion {} en el Sistema Solar\".format(planbusc,posicion+1))\n",
    "planetascercanos=planets[0:posicion]\n",
    "print(\"Los planetas mas cercanos al Sol antes del de tu eleccion son:\",planetascercanos)\n",
    "planetasalejados=planets[posicion+1:]\n",
    "print(\"Los planetas mas alejados del Sol despues del de tu eleccion son:\",planetasalejados)\n"
   ]
  }
 ],
 "metadata": {
  "interpreter": {
   "hash": "409e9466594ad2b05b3243a56daf0c2959e53ee512aeeca6e2f0ff8002f26f46"
  },
  "kernelspec": {
   "display_name": "Python 3.10.2 64-bit",
   "language": "python",
   "name": "python3"
  },
  "language_info": {
   "codemirror_mode": {
    "name": "ipython",
    "version": 3
   },
   "file_extension": ".py",
   "mimetype": "text/x-python",
   "name": "python",
   "nbconvert_exporter": "python",
   "pygments_lexer": "ipython3",
   "version": "3.10.2"
  },
  "orig_nbformat": 4
 },
 "nbformat": 4,
 "nbformat_minor": 2
}

{
 "cells": [
  {
   "cell_type": "markdown",
   "metadata": {},
   "source": [
    "# Programa de nave Fecha Actual"
   ]
  },
  {
   "cell_type": "code",
   "execution_count": 12,
   "metadata": {},
   "outputs": [
    {
     "name": "stdout",
     "output_type": "stream",
     "text": [
      "Today's date time is 2022-02-11\n"
     ]
    }
   ],
   "source": [
    "from datetime import date\n",
    "date.today()\n",
    "print(\"Today's date time is \" + str(date.today()))"
   ]
  },
  {
   "cell_type": "markdown",
   "metadata": {},
   "source": [
    "# Conversor de Parsec a Año Luz"
   ]
  },
  {
   "cell_type": "code",
   "execution_count": 13,
   "metadata": {},
   "outputs": [
    {
     "name": "stdout",
     "output_type": "stream",
     "text": [
      "11 parsec is equal to 35.877159999999996 lightyears\n"
     ]
    }
   ],
   "source": [
    "parsec=11\n",
    "a_luz=3.26156*parsec\n",
    "print(str(parsec) + \" parsec is equal to \" + str(a_luz) + \" lightyears\")\n",
    "#python KATA_1_LX.py"
   ]
  }
 ],
 "metadata": {
  "interpreter": {
   "hash": "409e9466594ad2b05b3243a56daf0c2959e53ee512aeeca6e2f0ff8002f26f46"
  },
  "kernelspec": {
   "display_name": "Python 3.10.2 64-bit",
   "language": "python",
   "name": "python3"
  },
  "language_info": {
   "codemirror_mode": {
    "name": "ipython",
    "version": 3
   },
   "file_extension": ".py",
   "mimetype": "text/x-python",
   "name": "python",
   "nbconvert_exporter": "python",
   "pygments_lexer": "ipython3",
   "version": "3.10.2"
  },
  "orig_nbformat": 4
 },
 "nbformat": 4,
 "nbformat_minor": 2
}

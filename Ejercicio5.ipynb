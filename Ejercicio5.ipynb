{
 "cells": [
  {
   "cell_type": "code",
   "execution_count": 10,
   "metadata": {},
   "outputs": [
    {
     "name": "stdout",
     "output_type": "stream",
     "text": [
      "La distancia entre la Tierra y Jupiter es de 628949330 km y en millas 390577533.93 mi\n"
     ]
    }
   ],
   "source": [
    "dtierra=149597870\n",
    "djupiter=778547200\n",
    "distanciakm=abs(dtierra-djupiter)\n",
    "distanciami=(abs(dtierra-djupiter))*0.621\n",
    "print(\"La distancia entre la Tierra y Jupiter es de {} km y en millas {} mi\" .format(distanciakm,distanciami))"
   ]
  },
  {
   "cell_type": "markdown",
   "metadata": {},
   "source": [
    "# Ejercicio 2"
   ]
  },
  {
   "cell_type": "code",
   "execution_count": 11,
   "metadata": {},
   "outputs": [
    {
     "name": "stdout",
     "output_type": "stream",
     "text": [
      "La distancia entre el planeta 1 y el planeta 2 es de 628949330 km y en millas 390577533.93 mi\n"
     ]
    }
   ],
   "source": [
    "planeta1=input(\"Ingresa la distancia del 1er planeta\")\n",
    "planeta2=input(\"Ingresa la distancia del 2do planeta\")\n",
    "plan1num=int(planeta1)\n",
    "plan2num=int(planeta2)\n",
    "distanciakm=abs(plan2num-plan1num)\n",
    "distanciami=(abs(plan2num-plan1num))*0.621\n",
    "print(\"La distancia entre el planeta 1 y el planeta 2 es de {} km y en millas {} mi\" .format(distanciakm,distanciami))"
   ]
  }
 ],
 "metadata": {
  "interpreter": {
   "hash": "fca7286ad49a51c87c04439b8abc41030fa88164ec992102bbafb8655b3208f8"
  },
  "kernelspec": {
   "display_name": "Python 3.10.2 64-bit (windows store)",
   "language": "python",
   "name": "python3"
  },
  "language_info": {
   "codemirror_mode": {
    "name": "ipython",
    "version": 3
   },
   "file_extension": ".py",
   "mimetype": "text/x-python",
   "name": "python",
   "nbconvert_exporter": "python",
   "pygments_lexer": "ipython3",
   "version": "3.10.2"
  },
  "orig_nbformat": 4
 },
 "nbformat": 4,
 "nbformat_minor": 2
}

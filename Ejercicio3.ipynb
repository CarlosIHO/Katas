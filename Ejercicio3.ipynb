{
 "cells": [
  {
   "cell_type": "markdown",
   "metadata": {},
   "source": [
    "# Ejercicio 1\n"
   ]
  },
  {
   "cell_type": "code",
   "execution_count": null,
   "metadata": {},
   "outputs": [],
   "source": [
    "# Añadir el código necesario para crear una variable que guarde la velocidad del asteroide.\n",
    "# Escribe una expresión de prueba para calcular si necesita una advertencia.\n",
    "# Agregue las instrucciones que se ejecutarán si la expresión de prueba es true o false.\n",
    "asteroide=49\n",
    "if 25>=asteroide:\n",
    "    print(\"NO EXISTE PROBLEMA ALGUNO, SIGUE CON TU DIA :)\")\n",
    "else:\n",
    "        print(\"EL CIELO SE CAE, BUSCA REFUGIO\")"
   ]
  },
  {
   "cell_type": "markdown",
   "metadata": {},
   "source": [
    "# Ejercicio 2"
   ]
  },
  {
   "cell_type": "code",
   "execution_count": null,
   "metadata": {},
   "outputs": [],
   "source": [
    "# Agrega el código para crear una variable para un asteroide que viaja a 19 km/s\n",
    "# Escribe varias expresiones de prueba para determinar si puedes ver el rayo de luz desde la tierra\n",
    "# Agrega las instrucciones que se ejecutarán si las expresiones de prueba son True o False\n",
    "asteroide=19\n",
    "print(\"Asteroide se dirige a la Tierra a 19km/s\")\n",
    "if asteroide>20:\n",
    "    print(\"Observa el cielo puedes ver la estela del asteroide que viaja a \"+ str(asteroide) + \"km/s\")\n",
    "elif asteroide==20:\n",
    "    print(\"Observa el cielo puedes ver la estela del asteroide que viaja a \"+ str(asteroide) + \"km/s\")\n",
    "else:\n",
    "    print(\"No se puede observar el viaje del asteroide ya que viaja a velocidad menor de 20 km/s\")"
   ]
  },
  {
   "cell_type": "markdown",
   "metadata": {},
   "source": [
    "# Ejercicio 3"
   ]
  },
  {
   "cell_type": "code",
   "execution_count": null,
   "metadata": {},
   "outputs": [],
   "source": [
    "# Agrega el código para crear nuevas variables para la velocidad y el tamaño del asteroide\n",
    "# Para probar el código, prueba con varias velocidades y tamaños\n",
    "# Escribe varias expresiones de prueba o combinaciones de expresiones de prueba para determinar qué mensaje se debe enviar a Tierra.\n",
    "velocidadast=24\n",
    "tamasteroide=120\n",
    "if tamasteroide>25 and velocidadast>=20:\n",
    "    print(\"Un asteroide de tamaño \" + str(tamasteroide) + \"m y velocidad \" + str(velocidadast) + \"km/s de caracteristicas peligrosas se acerca a la Tierra, busca refugio\")\n",
    "elif tamasteroide<=25:\n",
    "    print(\"El tamaño del asteroide \" + str(tamasteroide) + \"m no significa un riesgo al planeta, observa la velocidad\")\n",
    "elif velocidadast==20:\n",
    "    print(\"La velocidad del asteroide \" + str(velocidadast) + \"km/s deja su estala en el cielo Observala!!\")\n",
    "else:\n",
    "    print(\"El asteroide no significa un riesgo al planeta\")"
   ]
  }
 ],
 "metadata": {
  "interpreter": {
   "hash": "409e9466594ad2b05b3243a56daf0c2959e53ee512aeeca6e2f0ff8002f26f46"
  },
  "kernelspec": {
   "display_name": "Python 3.10.2 64-bit",
   "language": "python",
   "name": "python3"
  },
  "language_info": {
   "name": "python",
   "version": "3.10.2"
  },
  "orig_nbformat": 4
 },
 "nbformat": 4,
 "nbformat_minor": 2
}
